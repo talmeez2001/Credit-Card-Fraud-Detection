{
 "cells": [
  {
   "cell_type": "code",
   "execution_count": 1,
   "id": "e91566cc",
   "metadata": {},
   "outputs": [],
   "source": [
    "# Author: Aafra Md. Hanif Shaikh\n",
    "# Task Name: CREDIT CARD FRAUD DETECTION\n",
    "# 2st task in the list of tasks\n",
    "# Task Category: Machine Learning\n",
    "# Date Of Submission: \n",
    "# Linkedin Profile: \n",
    "# Github Repository: "
   ]
  },
  {
   "cell_type": "code",
   "execution_count": 2,
   "id": "f1d2c35e",
   "metadata": {},
   "outputs": [],
   "source": [
    "#importing Libraries\n",
    "\n",
    "\n",
    "import pandas as pd\n",
    "from sklearn.preprocessing import StandardScaler, OneHotEncoder\n",
    "from sklearn.compose import ColumnTransformer\n",
    "from sklearn.pipeline import Pipeline\n",
    "from sklearn.linear_model import LogisticRegression\n",
    "from sklearn.metrics import classification_report, confusion_matrix, accuracy_score"
   ]
  },
  {
   "cell_type": "code",
   "execution_count": 3,
   "id": "c20fbebf",
   "metadata": {},
   "outputs": [],
   "source": [
    "# Load your train and test datasets\n",
    "# Replace 'train_data.csv' and 'test_data.csv' with the paths to your datasets\n",
    "train_data = pd.read_csv('fraudTrain.csv')\n",
    "test_data = pd.read_csv('fraudTest.csv')"
   ]
  },
  {
   "cell_type": "code",
   "execution_count": 3,
   "id": "5475e370",
   "metadata": {},
   "outputs": [],
   "source": [
    "# Data Exploration and Preprocessing\n",
    "# (Data cleaning and feature engineering steps are not included here)\n",
    "\n",
    "# Define the categorical and numeric feature columns\n",
    "categorical_features = ['merchant', 'category', 'gender', 'job']\n",
    "numeric_features = ['amt', 'lat', 'long', 'city_pop', 'unix_time', 'merch_lat', 'merch_long']"
   ]
  },
  {
   "cell_type": "code",
   "execution_count": 4,
   "id": "adcb6b97",
   "metadata": {},
   "outputs": [],
   "source": [
    "# Remove the 'trans_date_trans_time' column from the features\n",
    "X_train = train_data.drop(['is_fraud', 'trans_date_trans_time'], axis=1)\n",
    "y_train = train_data['is_fraud']\n",
    "X_test = test_data.drop(['is_fraud', 'trans_date_trans_time'], axis=1)\n",
    "y_test = test_data['is_fraud']"
   ]
  },
  {
   "cell_type": "code",
   "execution_count": 5,
   "id": "ba9f2dec",
   "metadata": {},
   "outputs": [],
   "source": [
    "# Preprocess categorical features with one-hot encoding and standardize numeric features\n",
    "preprocessor = ColumnTransformer(\n",
    "    transformers=[\n",
    "        ('num', StandardScaler(), numeric_features),\n",
    "        ('cat', OneHotEncoder(handle_unknown='ignore'), categorical_features)\n",
    "    ])\n",
    "\n",
    "# Create a Pipeline that includes preprocessing and the Logistic Regression model\n",
    "model = Pipeline([\n",
    "    ('preprocessor', preprocessor),\n",
    "    ('classifier', LogisticRegression(max_iter=1000))  # Increased max_iter\n",
    "])\n",
    "\n",
    "# Train the model on the train data\n",
    "model.fit(X_train, y_train)\n",
    "\n",
    "# Make predictions on the test data\n",
    "y_pred_lr = model.predict(X_test)\n",
    "\n",
    "# Model Evaluation\n",
    "accuracy = accuracy_score(y_test, y_pred_lr)\n",
    "conf_matrix = confusion_matrix(y_test, y_pred_lr)\n",
    "classification_rep = classification_report(y_test, y_pred_lr)\n"
   ]
  },
  {
   "cell_type": "code",
   "execution_count": 6,
   "id": "6ff25a7e",
   "metadata": {},
   "outputs": [
    {
     "name": "stdout",
     "output_type": "stream",
     "text": [
      "Accuracy: 0.995596695452198\n",
      "Confusion Matrix:\n",
      "[[553271    303]\n",
      " [  2144      1]]\n",
      "Classification Report:\n",
      "              precision    recall  f1-score   support\n",
      "\n",
      "           0       1.00      1.00      1.00    553574\n",
      "           1       0.00      0.00      0.00      2145\n",
      "\n",
      "    accuracy                           1.00    555719\n",
      "   macro avg       0.50      0.50      0.50    555719\n",
      "weighted avg       0.99      1.00      0.99    555719\n",
      "\n"
     ]
    }
   ],
   "source": [
    "#print Output\n",
    "\n",
    "print(f\"Accuracy: {accuracy}\")\n",
    "print(\"Confusion Matrix:\")\n",
    "print(conf_matrix)\n",
    "print(\"Classification Report:\")\n",
    "print(classification_rep)"
   ]
  }
 ],
 "metadata": {
  "kernelspec": {
   "display_name": "Python 3 (ipykernel)",
   "language": "python",
   "name": "python3"
  },
  "language_info": {
   "codemirror_mode": {
    "name": "ipython",
    "version": 3
   },
   "file_extension": ".py",
   "mimetype": "text/x-python",
   "name": "python",
   "nbconvert_exporter": "python",
   "pygments_lexer": "ipython3",
   "version": "3.11.4"
  }
 },
 "nbformat": 4,
 "nbformat_minor": 5
}
